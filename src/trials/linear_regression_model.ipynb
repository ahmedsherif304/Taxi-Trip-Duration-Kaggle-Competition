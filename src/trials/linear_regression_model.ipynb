{
 "cells": [
  {
   "cell_type": "code",
   "execution_count": 1,
   "metadata": {},
   "outputs": [],
   "source": [
    "import numpy as np\n",
    "import pandas as pd\n",
    "import pickle\n",
    "from sklearn.model_selection import train_test_split\n"
   ]
  },
  {
   "cell_type": "code",
   "execution_count": 2,
   "metadata": {},
   "outputs": [],
   "source": [
    "\n",
    "class OurLinearRegression:\n",
    "    def _prepare_inputs(self, X):\n",
    "        ones = np.ones((X.shape[0], 1), dtype=X.dtype)\n",
    "        return np.concatenate((ones, X), axis=1)\n",
    "\n",
    "    def fit(self, X, y):\n",
    "        X = self._prepare_inputs(X)\n",
    "        X_transpose = X.transpose()\n",
    "        self.w =  np.linalg.solve( np.matmul(X_transpose, X), np.matmul(X_transpose, y)  ) \n",
    "        return self\n",
    "    \n",
    "    def predict(self, X):\n",
    "        X = self._prepare_inputs(X) \n",
    "        return np.matmul( X , self.w)\n",
    "\n",
    "\n",
    "def Root_Mean_Squared_Logarithmic_Error(true, predicted):\n",
    "    return np.sqrt(np.mean(np.square(np.log(predicted + 1) - np.log(true + 1))))"
   ]
  },
  {
   "cell_type": "code",
   "execution_count": 3,
   "metadata": {},
   "outputs": [
    {
     "name": "stdout",
     "output_type": "stream",
     "text": [
      "Training Error: 0.6810744349005731 (RMS: 0.8252723398373248)\n",
      "Testing Error: 0.679421691103915 (RMS: 0.8242703992646557)\n"
     ]
    }
   ],
   "source": [
    "df = pd.read_csv(\"../Data/train_data_after_cleaning.csv\")\n",
    "\n",
    "y = df.trip_duration\n",
    "X = df.drop([\"trip_duration\"],axis=1)\n",
    "X_train, X_valid, y_train, y_valid = train_test_split(X, y, train_size=0.8, test_size=0.2,\n",
    "                                                      random_state=0)\n",
    "# Define the model. Set random_state to 1\n",
    "\n",
    "\n",
    "# fit your model\n",
    "\n",
    "X_train= np.array(X_train)\n",
    "X_valid=np.array(X_valid)\n",
    "y_train=np.array(y_train)\n",
    "y_valid=np.array(y_valid)\n",
    "\n",
    "our_model = OurLinearRegression().fit(X_train, y_train)\n",
    "our_model.fit(X_train,y_train)\n",
    "y_train_predict = our_model.predict(X_train)\n",
    "training_error = Root_Mean_Squared_Logarithmic_Error(y_train, y_train_predict)\n",
    "print(f\"Training Error: {training_error} (RMS: {training_error**0.5})\")\n",
    "y_test_predict = our_model.predict(X_valid)\n",
    "testing_error = Root_Mean_Squared_Logarithmic_Error(y_valid, y_test_predict)\n",
    "print(f\"Testing Error: {testing_error} (RMS: {testing_error**0.5})\")"
   ]
  },
  {
   "cell_type": "code",
   "execution_count": 4,
   "metadata": {},
   "outputs": [],
   "source": [
    "filename = f'linear_regression_model.sav'\n",
    "pickle.dump(our_model, open(filename, 'wb'))"
   ]
  }
 ],
 "metadata": {
  "interpreter": {
   "hash": "7da07d052013b9687e000b67fa1f535da77c57d07b4db176300dc6af349574f3"
  },
  "kernelspec": {
   "display_name": "Python 3.9.7 ('base')",
   "language": "python",
   "name": "python3"
  },
  "language_info": {
   "codemirror_mode": {
    "name": "ipython",
    "version": 3
   },
   "file_extension": ".py",
   "mimetype": "text/x-python",
   "name": "python",
   "nbconvert_exporter": "python",
   "pygments_lexer": "ipython3",
   "version": "3.9.7"
  },
  "orig_nbformat": 4
 },
 "nbformat": 4,
 "nbformat_minor": 2
}
